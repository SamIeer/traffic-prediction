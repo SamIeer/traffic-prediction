import pandas as pd
from datetime import timedelta
from sklearn.model_selection import train_test_split
from sklearn.ensemble import RandomForestRegressor
from sklearn.metrics import mean_absolute_error
import matplotlib.pyplot as plt


# Example for tab-separated file
df = pd.read_csv('stop_times.txt')

# Save as CSV
df.to_csv('stop_times.csv')

# Drop multiple columns
df = df.drop(['continuous_pickup','continuous_drop_off','stop_headsign','pickup_type','drop_off_type'], axis=1)


# Convert time columns
# Convert times as duration from midnight
df['departure_time'] = pd.to_timedelta(df['departure_time'])
df['arrival_time'] = pd.to_timedelta(df['arrival_time'])



# Calculate travel time (in seconds)
df['travel_time_sec'] = (df['departure_time'] - df['arrival_time']).dt.total_seconds().abs()
# Calculate distance difference to previous stop
df['distance_m'] = df.groupby('trip_id')['shape_dist_traveled'].diff().fillna(0)


# Calculate average speed
df['speed_kmph'] = (df['distance_m'] / 1000) / (df['travel_time_sec'] / 3600 + 1e-5)  # avoid div by zero


# Extract time features
df['hour'] = df['departure_time'].dt.components['hours']
df['minute'] = df['departure_time'].dt.components['minutes']


# Features and label
features = df[['hour', 'minute', 'stop_id', 'distance_m']]
label = df['travel_time_sec']


# Train/test split
X_train, X_test, y_train, y_test = train_test_split(features, label, test_size=0.2, random_state=42)


# Train Random Forest model
model = RandomForestRegressor(n_estimators=100, random_state=42)
model.fit(X_train, y_train)


# Evaluate
predictions = model.predict(X_test)
mae = mean_absolute_error(y_test, predictions)

(mae, df[['hour', 'minute', 'stop_id', 'distance_m', 'travel_time_sec']].head())


df.head()





stops = pd.read_csv("stops.txt")


stops.head()


# Merge lat/lon into stop_times
merged = pd.merge(df, stops[['stop_id', 'stop_lat', 'stop_lon']], on='stop_id', how='left')


merged = merged.sort_values(by=['trip_id', 'stop_sequence']).reset_index(drop=True)
merged.head()





def time_to_sec(t):
    h, m, s = map(int, t.split(':'))
    return h * 3600 + m * 60 + s

import pandas as pd

# Ensure 'arrival_time' is timedelta
merged['arrival_time'] = pd.to_timedelta(merged['arrival_time'])

# Convert to seconds
merged['arrival_sec'] = merged['arrival_time'].dt.total_seconds()

# Calculate travel time to next stop
merged['next_arrival_sec'] = merged.groupby('trip_id')['arrival_sec'].shift(-1)
merged['travel_time_sec'] = merged['next_arrival_sec'] - merged['arrival_sec']



merged.head()


merged['hour_of_day'] = merged['arrival_sec'] // 3600  # e.g., 5 AM = 5





trips = pd.read_csv("trips.txt")
merged = pd.merge(merged, trips[['trip_id', 'service_id', 'direction_id']], on='trip_id', how='left')





# Remove rows where travel time is negative or null
cleaned = merged[(merged['travel_time_sec'] > 0) & (merged['travel_time_sec'].notnull())]

# Optional: Remove unreasonable travel times (> 30 minutes between stops)
cleaned = cleaned[cleaned['travel_time_sec'] < 1800]



cleaned.head()


cleaned.to_csv("gtfs_cleaned.csv", index=False)



